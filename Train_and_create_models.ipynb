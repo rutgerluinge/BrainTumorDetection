{
 "cells": [
  {
   "cell_type": "code",
   "execution_count": 1,
   "id": "artificial-fleece",
   "metadata": {},
   "outputs": [
    {
     "name": "stderr",
     "output_type": "stream",
     "text": [
      "C:\\Users\\User\\anaconda3\\envs\\GPU3\\lib\\site-packages\\tensorflow_addons\\utils\\tfa_eol_msg.py:23: UserWarning: \n",
      "\n",
      "TensorFlow Addons (TFA) has ended development and introduction of new features.\n",
      "TFA has entered a minimal maintenance and release mode until a planned end of life in May 2024.\n",
      "Please modify downstream libraries to take dependencies from other repositories in our TensorFlow community (e.g. Keras, Keras-CV, and Keras-NLP). \n",
      "\n",
      "For more information see: https://github.com/tensorflow/addons/issues/2807 \n",
      "\n",
      "  warnings.warn(\n"
     ]
    }
   ],
   "source": [
    "import numpy as np\n",
    "import pandas as pd\n",
    "from pathlib import Path\n",
    "import os\n",
    "import cv2\n",
    "import seaborn as sns\n",
    "import matplotlib.pyplot as plt\n",
    "import gc\n",
    "import pickle\n",
    "from plotting import loss_accuracy_graph_from_pickle, loss_accuracy_graph, bar_accuracy_plot, scatter_plot\n",
    "\n",
    "import keras\n",
    "from keras.preprocessing.image import ImageDataGenerator, DirectoryIterator\n",
    "from keras.utils import to_categorical\n",
    "from keras.applications.inception_v3 import InceptionV3\n",
    "from keras.models import Model\n",
    "from keras.layers import Dense, GlobalAveragePooling2D\n",
    "from vit_keras import vit\n",
    "\n",
    "from sklearn.model_selection import StratifiedKFold, train_test_split\n",
    "from sklearn.model_selection import KFold\n",
    "from sklearn.metrics import confusion_matrix\n",
    "\n",
    "import tensorflow as tf\n",
    "from tensorflow.keras.applications.resnet50 import ResNet50\n",
    "from tensorflow.keras.backend import clear_session\n",
    "from tensorflow.keras.preprocessing.image import ImageDataGenerator"
   ]
  },
  {
   "cell_type": "code",
   "execution_count": 2,
   "id": "experienced-apollo",
   "metadata": {},
   "outputs": [],
   "source": [
    "data_path = r'C:\\Users\\User\\Desktop\\Master_Y1\\Deep_learning\\BrainTumorDetection-main\\brain_tumor_dataset'\n",
    "classes = ['no', 'yes']\n",
    "def create_inception_v3():\n",
    "    base_incep = InceptionV3(weights='imagenet', include_top=False, input_shape=(img_size, img_size, 3))\n",
    "    x = base_incep.output\n",
    "    x = GlobalAveragePooling2D()(x)\n",
    "    x = Dense(1024, activation='relu')(x)\n",
    "    predictions = Dense(len(classes), activation='softmax')(x)\n",
    "    inception = Model(inputs=base_incep.input, outputs=predictions)\n",
    "    for layer in base_incep.layers:\n",
    "        layer.trainable = False\n",
    "    inception.compile(optimizer='adam', loss='binary_crossentropy', metrics=['binary_accuracy'])\n",
    "    return inception\n",
    "\n",
    "def create_resnet50():\n",
    "    base_resn = ResNet50(weights='imagenet', include_top=False, input_shape=(img_size, img_size, 3))\n",
    "    x = base_resn.output\n",
    "    x = GlobalAveragePooling2D()(x)\n",
    "    x = Dense(1024, activation='relu')(x)\n",
    "    predictions = Dense(len(classes), activation='softmax')(x)\n",
    "    resnet = Model(inputs=base_resn.input, outputs=predictions)\n",
    "    for layer in base_resn.layers:\n",
    "        layer.trainable = False\n",
    "    resnet.compile(optimizer='adam', loss='binary_crossentropy', metrics=['binary_accuracy'])\n",
    "    return resnet\n",
    "\n",
    "def create_vgg16():\n",
    "    base_model = keras.applications.VGG16(weights='imagenet', include_top=False) \n",
    "    base_model.trainable = False\n",
    "    inputs = keras.Input((224, 224, 3))\n",
    "    x = base_model(inputs, training=False)\n",
    "    x = keras.layers.GlobalAveragePooling2D()(x)\n",
    "    outputs = keras.layers.Dense(2, activation='sigmoid')(x)\n",
    "    VGG = keras.Model(inputs, outputs, name=\"VGG\")\n",
    "    VGG.compile(optimizer='adam', loss='binary_crossentropy', metrics=['binary_accuracy'])\n",
    "    return VGG\n",
    "\n",
    "def create_vit_b16():\n",
    "    b16 = vit.vit_b16(image_size=(img_size, img_size), pretrained=True, activation='sigmoid', include_top=True, pretrained_top=False, classes=2)\n",
    "    b16.compile(optimizer='adam', loss='binary_crossentropy', metrics=['binary_accuracy'])\n",
    "    return b16\n",
    "\n",
    "def create_vit_b32():\n",
    "    b32 = vit.vit_b32(image_size=(img_size, img_size), pretrained=True, activation='sigmoid', include_top=True, pretrained_top=False, classes=2)\n",
    "    b32.compile(optimizer='adam', loss='binary_crossentropy', metrics=['binary_accuracy'])\n",
    "    return b32\n",
    "\n",
    "def create_vit_l16():\n",
    "    l16 = vit.vit_l16(image_size=(224,224), activation='sigmoid', include_top=True, pretrained_top=False, classes=2)\n",
    "    l16.compile(optimizer='adam', loss='binary_crossentropy', metrics=['binary_accuracy'])\n",
    "    return l16\n"
   ]
  },
  {
   "cell_type": "code",
   "execution_count": 3,
   "id": "46dc9197",
   "metadata": {},
   "outputs": [],
   "source": [
    "def load_and_preprocess_data(img_size):\n",
    "    data_path = r'C:\\Users\\User\\Desktop\\Master_Y1\\Deep_learning\\BrainTumorDetection-main\\brain_tumor_dataset'\n",
    "    classes = ['no', 'yes']\n",
    "\n",
    "    X = []\n",
    "    Y = []\n",
    "    for c in classes:\n",
    "        path = os.path.join(data_path, c)\n",
    "        class_num = classes.index(c)\n",
    "        for img in os.listdir(path):\n",
    "            img_arr = cv2.imread(os.path.join(path, img), cv2.IMREAD_COLOR)\n",
    "            img_arr = cv2.resize(img_arr, (img_size, img_size))\n",
    "            X.append(img_arr)\n",
    "            Y.append(class_num)\n",
    "\n",
    "    X = np.array(X)\n",
    "    Y = np.array(Y)\n",
    "    Y = to_categorical(Y, num_classes=len(classes))\n",
    "\n",
    "    kf = KFold(n_splits=5, shuffle=True, random_state=42)\n",
    "\n",
    "    datagen = ImageDataGenerator(\n",
    "    rotation_range=360,\n",
    "    horizontal_flip=True)\n",
    "\n",
    "    return X, Y, kf, datagen"
   ]
  },
  {
   "cell_type": "code",
   "execution_count": 4,
   "id": "42e416a0",
   "metadata": {},
   "outputs": [],
   "source": [
    "img_size = 224\n",
    "epochs = 100\n",
    "batch_size = 16\n",
    "data_dictionary = {}\n",
    "\n",
    "X, Y, kf, datagen = load_and_preprocess_data(img_size)"
   ]
  },
  {
   "cell_type": "code",
   "execution_count": 5,
   "id": "13cdb933",
   "metadata": {},
   "outputs": [],
   "source": [
    "def cross_validate(create_model_fn, X, Y, kf, datagen, batch_size=8, epochs=10, num_augmented_images_per_original=2):\n",
    "\n",
    "    entire_history = []\n",
    "    best_history = None\n",
    "    best_val_accuracy = -np.inf\n",
    "\n",
    "    for train_index, val_index in kf.split(X):\n",
    "        X_train, X_val = X[train_index], X[val_index]\n",
    "        Y_train, Y_val = Y[train_index], Y[val_index]\n",
    "\n",
    "        # Generate augmented data\n",
    "        augmented_X_train = []\n",
    "        augmented_Y_train = []\n",
    "\n",
    "        for x, y in zip(X_train, Y_train):\n",
    "            x = np.expand_dims(x, axis=0)\n",
    "            y = np.expand_dims(y, axis=0)\n",
    "\n",
    "            img_gen = datagen.flow(x, y, batch_size=1)\n",
    "\n",
    "            for i in range(num_augmented_images_per_original):\n",
    "                aug_x, aug_y = next(img_gen)\n",
    "                augmented_X_train.append(aug_x[0])\n",
    "                augmented_Y_train.append(aug_y[0])\n",
    "\n",
    "        augmented_X_train = np.array(augmented_X_train)\n",
    "        augmented_Y_train = np.array(augmented_Y_train)\n",
    "\n",
    "        # Combine original and augmented training data\n",
    "        combined_X_train = np.concatenate((X_train, augmented_X_train), axis=0)\n",
    "        combined_Y_train = np.concatenate((Y_train, augmented_Y_train), axis=0)\n",
    "\n",
    "        clear_session()\n",
    "\n",
    "        # Create a new instance of the model with reset weights\n",
    "        model = create_model_fn()\n",
    "\n",
    "        train_generator = datagen.flow(combined_X_train, combined_Y_train, batch_size=batch_size)\n",
    "\n",
    "        model_history = model.fit(train_generator, steps_per_epoch=len(combined_X_train) // batch_size, epochs=epochs, validation_data=(X_val, Y_val))\n",
    "\n",
    "        entire_history.append(model_history.history)\n",
    "        current_val_accuracy = model_history.history['val_binary_accuracy'][-1]\n",
    "\n",
    "        del model\n",
    "        del model_history\n",
    "        del X_train\n",
    "        del X_val\n",
    "        del Y_train\n",
    "        del Y_val\n",
    "        del combined_X_train\n",
    "        del combined_Y_train\n",
    "        del augmented_X_train\n",
    "        del augmented_Y_train\n",
    "        gc.collect()\n",
    "\n",
    "\n",
    "    return best_history ,best_model, best_val_x, best_val_y, entire_history"
   ]
  },
  {
   "cell_type": "code",
   "execution_count": null,
   "id": "d8e71598",
   "metadata": {},
   "outputs": [],
   "source": [
    "inception_history, inception_model, inception_val_x, inception_val_y, entire_inception_history = cross_validate(create_inception_v3, X, Y, kf, datagen, batch_size=batch_size, epochs=epochs)"
   ]
  },
  {
   "cell_type": "code",
   "execution_count": null,
   "id": "39178070",
   "metadata": {},
   "outputs": [],
   "source": [
    "data_dictionary[\"inception\"] = [inception_val_x, inception_val_y]\n",
    "\n",
    "file_path = \"inception_history.pickle\"\n",
    "\n",
    "with open(file_path, 'wb') as file_pi:\n",
    "    pickle.dump(entire_inception_history, file_pi)"
   ]
  },
  {
   "cell_type": "code",
   "execution_count": null,
   "id": "2371faf0",
   "metadata": {},
   "outputs": [],
   "source": [
    "inception_model.save('inception_model.h5')"
   ]
  },
  {
   "cell_type": "code",
   "execution_count": null,
   "id": "51ff03de",
   "metadata": {},
   "outputs": [],
   "source": []
  },
  {
   "cell_type": "code",
   "execution_count": null,
   "id": "b3c58535",
   "metadata": {},
   "outputs": [],
   "source": [
    "resnet_history, resnet_model, resnet_val_x, resnet_val_y, entire_resnet_history = cross_validate(create_resnet50, X, Y, kf, datagen, batch_size=batch_size, epochs=epochs)"
   ]
  },
  {
   "cell_type": "code",
   "execution_count": null,
   "id": "19c62fb7",
   "metadata": {},
   "outputs": [],
   "source": [
    "data_dictionary[\"resnet\"] = [resnet_val_x, resnet_val_y]\n",
    "\n",
    "file_path = \"resnet_history.pickle\"\n",
    "\n",
    "with open(file_path, 'wb') as file_pi:\n",
    "    pickle.dump(entire_resnet_history, file_pi)"
   ]
  },
  {
   "cell_type": "code",
   "execution_count": null,
   "id": "3e05b4ae",
   "metadata": {},
   "outputs": [],
   "source": [
    "resnet_model.save('resnet_model.h5')"
   ]
  },
  {
   "cell_type": "code",
   "execution_count": null,
   "id": "24b4ed39",
   "metadata": {},
   "outputs": [],
   "source": []
  },
  {
   "cell_type": "code",
   "execution_count": null,
   "id": "983c0f28",
   "metadata": {},
   "outputs": [],
   "source": [
    "vgg16_history, vgg16_model, vgg16_val_x, vgg16_val_y, entire_vgg16_history = cross_validate(create_vgg16, X, Y, kf, datagen, batch_size=batch_size, epochs=epochs)"
   ]
  },
  {
   "cell_type": "code",
   "execution_count": null,
   "id": "8d11c88a",
   "metadata": {},
   "outputs": [],
   "source": [
    "data_dictionary[\"vgg16\"] = [vgg16_val_x, vgg16_val_y]\n",
    "\n",
    "file_path = \"vgg16_history.pickle\"\n",
    "\n",
    "with open(file_path, 'wb') as file_pi:\n",
    "    pickle.dump(entire_vgg16_history, file_pi)"
   ]
  },
  {
   "cell_type": "code",
   "execution_count": null,
   "id": "32cd8837",
   "metadata": {},
   "outputs": [],
   "source": [
    "vgg16_model.save('vgg16_model.h5')"
   ]
  },
  {
   "cell_type": "code",
   "execution_count": null,
   "id": "35058b38",
   "metadata": {},
   "outputs": [],
   "source": []
  },
  {
   "cell_type": "code",
   "execution_count": 6,
   "id": "a6cf25cd",
   "metadata": {},
   "outputs": [
    {
     "name": "stderr",
     "output_type": "stream",
     "text": [
      "C:\\Users\\User\\anaconda3\\envs\\GPU3\\lib\\site-packages\\vit_keras\\utils.py:81: UserWarning: Resizing position embeddings from 24, 24 to 14, 14\n",
      "  warnings.warn(\n"
     ]
    },
    {
     "name": "stdout",
     "output_type": "stream",
     "text": [
      "Epoch 1/100\n",
      "37/37 [==============================] - 51s 755ms/step - loss: 0.8031 - binary_accuracy: 0.5915 - val_loss: 0.6609 - val_binary_accuracy: 0.6078\n",
      "Epoch 2/100\n",
      "37/37 [==============================] - 25s 662ms/step - loss: 0.6703 - binary_accuracy: 0.6237 - val_loss: 0.6614 - val_binary_accuracy: 0.5784\n",
      "Epoch 3/100\n",
      "37/37 [==============================] - 24s 657ms/step - loss: 0.6470 - binary_accuracy: 0.6203 - val_loss: 0.5969 - val_binary_accuracy: 0.6471\n",
      "Epoch 4/100\n",
      "37/37 [==============================] - 24s 647ms/step - loss: 0.6347 - binary_accuracy: 0.6661 - val_loss: 0.5667 - val_binary_accuracy: 0.7647\n",
      "Epoch 5/100\n",
      "37/37 [==============================] - 24s 650ms/step - loss: 0.5990 - binary_accuracy: 0.6983 - val_loss: 0.5371 - val_binary_accuracy: 0.7647\n",
      "Epoch 6/100\n",
      "37/37 [==============================] - 25s 664ms/step - loss: 0.5883 - binary_accuracy: 0.6983 - val_loss: 0.5895 - val_binary_accuracy: 0.6863\n",
      "Epoch 7/100\n",
      "37/37 [==============================] - 25s 660ms/step - loss: 0.5972 - binary_accuracy: 0.6881 - val_loss: 0.7828 - val_binary_accuracy: 0.5000\n",
      "Epoch 8/100\n",
      "37/37 [==============================] - 25s 664ms/step - loss: 0.5630 - binary_accuracy: 0.7161 - val_loss: 0.6039 - val_binary_accuracy: 0.7353\n",
      "Epoch 9/100\n",
      "27/37 [====================>.........] - ETA: 6s - loss: 0.5240 - binary_accuracy: 0.7500"
     ]
    },
    {
     "ename": "KeyboardInterrupt",
     "evalue": "",
     "output_type": "error",
     "traceback": [
      "\u001b[1;31m---------------------------------------------------------------------------\u001b[0m",
      "\u001b[1;31mKeyboardInterrupt\u001b[0m                         Traceback (most recent call last)",
      "Cell \u001b[1;32mIn[6], line 1\u001b[0m\n\u001b[1;32m----> 1\u001b[0m b16_history, b16_model, b16_val_x, b16_val_y, entire_b16_history \u001b[38;5;241m=\u001b[39m \u001b[43mcross_validate\u001b[49m\u001b[43m(\u001b[49m\u001b[43mcreate_vit_b16\u001b[49m\u001b[43m,\u001b[49m\u001b[43m \u001b[49m\u001b[43mX\u001b[49m\u001b[43m,\u001b[49m\u001b[43m \u001b[49m\u001b[43mY\u001b[49m\u001b[43m,\u001b[49m\u001b[43m \u001b[49m\u001b[43mkf\u001b[49m\u001b[43m,\u001b[49m\u001b[43m \u001b[49m\u001b[43mdatagen\u001b[49m\u001b[43m,\u001b[49m\u001b[43m \u001b[49m\u001b[43mbatch_size\u001b[49m\u001b[38;5;241;43m=\u001b[39;49m\u001b[43mbatch_size\u001b[49m\u001b[43m,\u001b[49m\u001b[43m \u001b[49m\u001b[43mepochs\u001b[49m\u001b[38;5;241;43m=\u001b[39;49m\u001b[43mepochs\u001b[49m\u001b[43m)\u001b[49m\n",
      "Cell \u001b[1;32mIn[5], line 40\u001b[0m, in \u001b[0;36mcross_validate\u001b[1;34m(create_model_fn, X, Y, kf, datagen, batch_size, epochs, num_augmented_images_per_original)\u001b[0m\n\u001b[0;32m     36\u001b[0m model \u001b[38;5;241m=\u001b[39m create_model_fn()\n\u001b[0;32m     38\u001b[0m train_generator \u001b[38;5;241m=\u001b[39m datagen\u001b[38;5;241m.\u001b[39mflow(combined_X_train, combined_Y_train, batch_size\u001b[38;5;241m=\u001b[39mbatch_size)\n\u001b[1;32m---> 40\u001b[0m model_history \u001b[38;5;241m=\u001b[39m \u001b[43mmodel\u001b[49m\u001b[38;5;241;43m.\u001b[39;49m\u001b[43mfit\u001b[49m\u001b[43m(\u001b[49m\u001b[43mtrain_generator\u001b[49m\u001b[43m,\u001b[49m\u001b[43m \u001b[49m\u001b[43msteps_per_epoch\u001b[49m\u001b[38;5;241;43m=\u001b[39;49m\u001b[38;5;28;43mlen\u001b[39;49m\u001b[43m(\u001b[49m\u001b[43mcombined_X_train\u001b[49m\u001b[43m)\u001b[49m\u001b[43m \u001b[49m\u001b[38;5;241;43m/\u001b[39;49m\u001b[38;5;241;43m/\u001b[39;49m\u001b[43m \u001b[49m\u001b[43mbatch_size\u001b[49m\u001b[43m,\u001b[49m\u001b[43m \u001b[49m\u001b[43mepochs\u001b[49m\u001b[38;5;241;43m=\u001b[39;49m\u001b[43mepochs\u001b[49m\u001b[43m,\u001b[49m\u001b[43m \u001b[49m\u001b[43mvalidation_data\u001b[49m\u001b[38;5;241;43m=\u001b[39;49m\u001b[43m(\u001b[49m\u001b[43mX_val\u001b[49m\u001b[43m,\u001b[49m\u001b[43m \u001b[49m\u001b[43mY_val\u001b[49m\u001b[43m)\u001b[49m\u001b[43m)\u001b[49m\n\u001b[0;32m     42\u001b[0m entire_history\u001b[38;5;241m.\u001b[39mappend(model_history\u001b[38;5;241m.\u001b[39mhistory)\n\u001b[0;32m     43\u001b[0m current_val_accuracy \u001b[38;5;241m=\u001b[39m model_history\u001b[38;5;241m.\u001b[39mhistory[\u001b[38;5;124m'\u001b[39m\u001b[38;5;124mval_binary_accuracy\u001b[39m\u001b[38;5;124m'\u001b[39m][\u001b[38;5;241m-\u001b[39m\u001b[38;5;241m1\u001b[39m]\n",
      "File \u001b[1;32m~\\anaconda3\\envs\\GPU3\\lib\\site-packages\\keras\\utils\\traceback_utils.py:65\u001b[0m, in \u001b[0;36mfilter_traceback.<locals>.error_handler\u001b[1;34m(*args, **kwargs)\u001b[0m\n\u001b[0;32m     63\u001b[0m filtered_tb \u001b[38;5;241m=\u001b[39m \u001b[38;5;28;01mNone\u001b[39;00m\n\u001b[0;32m     64\u001b[0m \u001b[38;5;28;01mtry\u001b[39;00m:\n\u001b[1;32m---> 65\u001b[0m     \u001b[38;5;28;01mreturn\u001b[39;00m fn(\u001b[38;5;241m*\u001b[39margs, \u001b[38;5;241m*\u001b[39m\u001b[38;5;241m*\u001b[39mkwargs)\n\u001b[0;32m     66\u001b[0m \u001b[38;5;28;01mexcept\u001b[39;00m \u001b[38;5;167;01mException\u001b[39;00m \u001b[38;5;28;01mas\u001b[39;00m e:\n\u001b[0;32m     67\u001b[0m     filtered_tb \u001b[38;5;241m=\u001b[39m _process_traceback_frames(e\u001b[38;5;241m.\u001b[39m__traceback__)\n",
      "File \u001b[1;32m~\\anaconda3\\envs\\GPU3\\lib\\site-packages\\keras\\engine\\training.py:1564\u001b[0m, in \u001b[0;36mModel.fit\u001b[1;34m(self, x, y, batch_size, epochs, verbose, callbacks, validation_split, validation_data, shuffle, class_weight, sample_weight, initial_epoch, steps_per_epoch, validation_steps, validation_batch_size, validation_freq, max_queue_size, workers, use_multiprocessing)\u001b[0m\n\u001b[0;32m   1556\u001b[0m \u001b[38;5;28;01mwith\u001b[39;00m tf\u001b[38;5;241m.\u001b[39mprofiler\u001b[38;5;241m.\u001b[39mexperimental\u001b[38;5;241m.\u001b[39mTrace(\n\u001b[0;32m   1557\u001b[0m     \u001b[38;5;124m\"\u001b[39m\u001b[38;5;124mtrain\u001b[39m\u001b[38;5;124m\"\u001b[39m,\n\u001b[0;32m   1558\u001b[0m     epoch_num\u001b[38;5;241m=\u001b[39mepoch,\n\u001b[1;32m   (...)\u001b[0m\n\u001b[0;32m   1561\u001b[0m     _r\u001b[38;5;241m=\u001b[39m\u001b[38;5;241m1\u001b[39m,\n\u001b[0;32m   1562\u001b[0m ):\n\u001b[0;32m   1563\u001b[0m     callbacks\u001b[38;5;241m.\u001b[39mon_train_batch_begin(step)\n\u001b[1;32m-> 1564\u001b[0m     tmp_logs \u001b[38;5;241m=\u001b[39m \u001b[38;5;28;43mself\u001b[39;49m\u001b[38;5;241;43m.\u001b[39;49m\u001b[43mtrain_function\u001b[49m\u001b[43m(\u001b[49m\u001b[43miterator\u001b[49m\u001b[43m)\u001b[49m\n\u001b[0;32m   1565\u001b[0m     \u001b[38;5;28;01mif\u001b[39;00m data_handler\u001b[38;5;241m.\u001b[39mshould_sync:\n\u001b[0;32m   1566\u001b[0m         context\u001b[38;5;241m.\u001b[39masync_wait()\n",
      "File \u001b[1;32m~\\anaconda3\\envs\\GPU3\\lib\\site-packages\\tensorflow\\python\\util\\traceback_utils.py:150\u001b[0m, in \u001b[0;36mfilter_traceback.<locals>.error_handler\u001b[1;34m(*args, **kwargs)\u001b[0m\n\u001b[0;32m    148\u001b[0m filtered_tb \u001b[38;5;241m=\u001b[39m \u001b[38;5;28;01mNone\u001b[39;00m\n\u001b[0;32m    149\u001b[0m \u001b[38;5;28;01mtry\u001b[39;00m:\n\u001b[1;32m--> 150\u001b[0m   \u001b[38;5;28;01mreturn\u001b[39;00m fn(\u001b[38;5;241m*\u001b[39margs, \u001b[38;5;241m*\u001b[39m\u001b[38;5;241m*\u001b[39mkwargs)\n\u001b[0;32m    151\u001b[0m \u001b[38;5;28;01mexcept\u001b[39;00m \u001b[38;5;167;01mException\u001b[39;00m \u001b[38;5;28;01mas\u001b[39;00m e:\n\u001b[0;32m    152\u001b[0m   filtered_tb \u001b[38;5;241m=\u001b[39m _process_traceback_frames(e\u001b[38;5;241m.\u001b[39m__traceback__)\n",
      "File \u001b[1;32m~\\anaconda3\\envs\\GPU3\\lib\\site-packages\\tensorflow\\python\\eager\\def_function.py:915\u001b[0m, in \u001b[0;36mFunction.__call__\u001b[1;34m(self, *args, **kwds)\u001b[0m\n\u001b[0;32m    912\u001b[0m compiler \u001b[38;5;241m=\u001b[39m \u001b[38;5;124m\"\u001b[39m\u001b[38;5;124mxla\u001b[39m\u001b[38;5;124m\"\u001b[39m \u001b[38;5;28;01mif\u001b[39;00m \u001b[38;5;28mself\u001b[39m\u001b[38;5;241m.\u001b[39m_jit_compile \u001b[38;5;28;01melse\u001b[39;00m \u001b[38;5;124m\"\u001b[39m\u001b[38;5;124mnonXla\u001b[39m\u001b[38;5;124m\"\u001b[39m\n\u001b[0;32m    914\u001b[0m \u001b[38;5;28;01mwith\u001b[39;00m OptionalXlaContext(\u001b[38;5;28mself\u001b[39m\u001b[38;5;241m.\u001b[39m_jit_compile):\n\u001b[1;32m--> 915\u001b[0m   result \u001b[38;5;241m=\u001b[39m \u001b[38;5;28mself\u001b[39m\u001b[38;5;241m.\u001b[39m_call(\u001b[38;5;241m*\u001b[39margs, \u001b[38;5;241m*\u001b[39m\u001b[38;5;241m*\u001b[39mkwds)\n\u001b[0;32m    917\u001b[0m new_tracing_count \u001b[38;5;241m=\u001b[39m \u001b[38;5;28mself\u001b[39m\u001b[38;5;241m.\u001b[39mexperimental_get_tracing_count()\n\u001b[0;32m    918\u001b[0m without_tracing \u001b[38;5;241m=\u001b[39m (tracing_count \u001b[38;5;241m==\u001b[39m new_tracing_count)\n",
      "File \u001b[1;32m~\\anaconda3\\envs\\GPU3\\lib\\site-packages\\tensorflow\\python\\eager\\def_function.py:947\u001b[0m, in \u001b[0;36mFunction._call\u001b[1;34m(self, *args, **kwds)\u001b[0m\n\u001b[0;32m    944\u001b[0m   \u001b[38;5;28mself\u001b[39m\u001b[38;5;241m.\u001b[39m_lock\u001b[38;5;241m.\u001b[39mrelease()\n\u001b[0;32m    945\u001b[0m   \u001b[38;5;66;03m# In this case we have created variables on the first call, so we run the\u001b[39;00m\n\u001b[0;32m    946\u001b[0m   \u001b[38;5;66;03m# defunned version which is guaranteed to never create variables.\u001b[39;00m\n\u001b[1;32m--> 947\u001b[0m   \u001b[38;5;28;01mreturn\u001b[39;00m \u001b[38;5;28mself\u001b[39m\u001b[38;5;241m.\u001b[39m_stateless_fn(\u001b[38;5;241m*\u001b[39margs, \u001b[38;5;241m*\u001b[39m\u001b[38;5;241m*\u001b[39mkwds)  \u001b[38;5;66;03m# pylint: disable=not-callable\u001b[39;00m\n\u001b[0;32m    948\u001b[0m \u001b[38;5;28;01melif\u001b[39;00m \u001b[38;5;28mself\u001b[39m\u001b[38;5;241m.\u001b[39m_stateful_fn \u001b[38;5;129;01mis\u001b[39;00m \u001b[38;5;129;01mnot\u001b[39;00m \u001b[38;5;28;01mNone\u001b[39;00m:\n\u001b[0;32m    949\u001b[0m   \u001b[38;5;66;03m# Release the lock early so that multiple threads can perform the call\u001b[39;00m\n\u001b[0;32m    950\u001b[0m   \u001b[38;5;66;03m# in parallel.\u001b[39;00m\n\u001b[0;32m    951\u001b[0m   \u001b[38;5;28mself\u001b[39m\u001b[38;5;241m.\u001b[39m_lock\u001b[38;5;241m.\u001b[39mrelease()\n",
      "File \u001b[1;32m~\\anaconda3\\envs\\GPU3\\lib\\site-packages\\tensorflow\\python\\eager\\function.py:2496\u001b[0m, in \u001b[0;36mFunction.__call__\u001b[1;34m(self, *args, **kwargs)\u001b[0m\n\u001b[0;32m   2493\u001b[0m \u001b[38;5;28;01mwith\u001b[39;00m \u001b[38;5;28mself\u001b[39m\u001b[38;5;241m.\u001b[39m_lock:\n\u001b[0;32m   2494\u001b[0m   (graph_function,\n\u001b[0;32m   2495\u001b[0m    filtered_flat_args) \u001b[38;5;241m=\u001b[39m \u001b[38;5;28mself\u001b[39m\u001b[38;5;241m.\u001b[39m_maybe_define_function(args, kwargs)\n\u001b[1;32m-> 2496\u001b[0m \u001b[38;5;28;01mreturn\u001b[39;00m \u001b[43mgraph_function\u001b[49m\u001b[38;5;241;43m.\u001b[39;49m\u001b[43m_call_flat\u001b[49m\u001b[43m(\u001b[49m\n\u001b[0;32m   2497\u001b[0m \u001b[43m    \u001b[49m\u001b[43mfiltered_flat_args\u001b[49m\u001b[43m,\u001b[49m\u001b[43m \u001b[49m\u001b[43mcaptured_inputs\u001b[49m\u001b[38;5;241;43m=\u001b[39;49m\u001b[43mgraph_function\u001b[49m\u001b[38;5;241;43m.\u001b[39;49m\u001b[43mcaptured_inputs\u001b[49m\u001b[43m)\u001b[49m\n",
      "File \u001b[1;32m~\\anaconda3\\envs\\GPU3\\lib\\site-packages\\tensorflow\\python\\eager\\function.py:1862\u001b[0m, in \u001b[0;36mConcreteFunction._call_flat\u001b[1;34m(self, args, captured_inputs, cancellation_manager)\u001b[0m\n\u001b[0;32m   1858\u001b[0m possible_gradient_type \u001b[38;5;241m=\u001b[39m gradients_util\u001b[38;5;241m.\u001b[39mPossibleTapeGradientTypes(args)\n\u001b[0;32m   1859\u001b[0m \u001b[38;5;28;01mif\u001b[39;00m (possible_gradient_type \u001b[38;5;241m==\u001b[39m gradients_util\u001b[38;5;241m.\u001b[39mPOSSIBLE_GRADIENT_TYPES_NONE\n\u001b[0;32m   1860\u001b[0m     \u001b[38;5;129;01mand\u001b[39;00m executing_eagerly):\n\u001b[0;32m   1861\u001b[0m   \u001b[38;5;66;03m# No tape is watching; skip to running the function.\u001b[39;00m\n\u001b[1;32m-> 1862\u001b[0m   \u001b[38;5;28;01mreturn\u001b[39;00m \u001b[38;5;28mself\u001b[39m\u001b[38;5;241m.\u001b[39m_build_call_outputs(\u001b[38;5;28;43mself\u001b[39;49m\u001b[38;5;241;43m.\u001b[39;49m\u001b[43m_inference_function\u001b[49m\u001b[38;5;241;43m.\u001b[39;49m\u001b[43mcall\u001b[49m\u001b[43m(\u001b[49m\n\u001b[0;32m   1863\u001b[0m \u001b[43m      \u001b[49m\u001b[43mctx\u001b[49m\u001b[43m,\u001b[49m\u001b[43m \u001b[49m\u001b[43margs\u001b[49m\u001b[43m,\u001b[49m\u001b[43m \u001b[49m\u001b[43mcancellation_manager\u001b[49m\u001b[38;5;241;43m=\u001b[39;49m\u001b[43mcancellation_manager\u001b[49m\u001b[43m)\u001b[49m)\n\u001b[0;32m   1864\u001b[0m forward_backward \u001b[38;5;241m=\u001b[39m \u001b[38;5;28mself\u001b[39m\u001b[38;5;241m.\u001b[39m_select_forward_and_backward_functions(\n\u001b[0;32m   1865\u001b[0m     args,\n\u001b[0;32m   1866\u001b[0m     possible_gradient_type,\n\u001b[0;32m   1867\u001b[0m     executing_eagerly)\n\u001b[0;32m   1868\u001b[0m forward_function, args_with_tangents \u001b[38;5;241m=\u001b[39m forward_backward\u001b[38;5;241m.\u001b[39mforward()\n",
      "File \u001b[1;32m~\\anaconda3\\envs\\GPU3\\lib\\site-packages\\tensorflow\\python\\eager\\function.py:499\u001b[0m, in \u001b[0;36m_EagerDefinedFunction.call\u001b[1;34m(self, ctx, args, cancellation_manager)\u001b[0m\n\u001b[0;32m    497\u001b[0m \u001b[38;5;28;01mwith\u001b[39;00m _InterpolateFunctionError(\u001b[38;5;28mself\u001b[39m):\n\u001b[0;32m    498\u001b[0m   \u001b[38;5;28;01mif\u001b[39;00m cancellation_manager \u001b[38;5;129;01mis\u001b[39;00m \u001b[38;5;28;01mNone\u001b[39;00m:\n\u001b[1;32m--> 499\u001b[0m     outputs \u001b[38;5;241m=\u001b[39m \u001b[43mexecute\u001b[49m\u001b[38;5;241;43m.\u001b[39;49m\u001b[43mexecute\u001b[49m\u001b[43m(\u001b[49m\n\u001b[0;32m    500\u001b[0m \u001b[43m        \u001b[49m\u001b[38;5;28;43mstr\u001b[39;49m\u001b[43m(\u001b[49m\u001b[38;5;28;43mself\u001b[39;49m\u001b[38;5;241;43m.\u001b[39;49m\u001b[43msignature\u001b[49m\u001b[38;5;241;43m.\u001b[39;49m\u001b[43mname\u001b[49m\u001b[43m)\u001b[49m\u001b[43m,\u001b[49m\n\u001b[0;32m    501\u001b[0m \u001b[43m        \u001b[49m\u001b[43mnum_outputs\u001b[49m\u001b[38;5;241;43m=\u001b[39;49m\u001b[38;5;28;43mself\u001b[39;49m\u001b[38;5;241;43m.\u001b[39;49m\u001b[43m_num_outputs\u001b[49m\u001b[43m,\u001b[49m\n\u001b[0;32m    502\u001b[0m \u001b[43m        \u001b[49m\u001b[43minputs\u001b[49m\u001b[38;5;241;43m=\u001b[39;49m\u001b[43margs\u001b[49m\u001b[43m,\u001b[49m\n\u001b[0;32m    503\u001b[0m \u001b[43m        \u001b[49m\u001b[43mattrs\u001b[49m\u001b[38;5;241;43m=\u001b[39;49m\u001b[43mattrs\u001b[49m\u001b[43m,\u001b[49m\n\u001b[0;32m    504\u001b[0m \u001b[43m        \u001b[49m\u001b[43mctx\u001b[49m\u001b[38;5;241;43m=\u001b[39;49m\u001b[43mctx\u001b[49m\u001b[43m)\u001b[49m\n\u001b[0;32m    505\u001b[0m   \u001b[38;5;28;01melse\u001b[39;00m:\n\u001b[0;32m    506\u001b[0m     outputs \u001b[38;5;241m=\u001b[39m execute\u001b[38;5;241m.\u001b[39mexecute_with_cancellation(\n\u001b[0;32m    507\u001b[0m         \u001b[38;5;28mstr\u001b[39m(\u001b[38;5;28mself\u001b[39m\u001b[38;5;241m.\u001b[39msignature\u001b[38;5;241m.\u001b[39mname),\n\u001b[0;32m    508\u001b[0m         num_outputs\u001b[38;5;241m=\u001b[39m\u001b[38;5;28mself\u001b[39m\u001b[38;5;241m.\u001b[39m_num_outputs,\n\u001b[1;32m   (...)\u001b[0m\n\u001b[0;32m    511\u001b[0m         ctx\u001b[38;5;241m=\u001b[39mctx,\n\u001b[0;32m    512\u001b[0m         cancellation_manager\u001b[38;5;241m=\u001b[39mcancellation_manager)\n",
      "File \u001b[1;32m~\\anaconda3\\envs\\GPU3\\lib\\site-packages\\tensorflow\\python\\eager\\execute.py:54\u001b[0m, in \u001b[0;36mquick_execute\u001b[1;34m(op_name, num_outputs, inputs, attrs, ctx, name)\u001b[0m\n\u001b[0;32m     52\u001b[0m \u001b[38;5;28;01mtry\u001b[39;00m:\n\u001b[0;32m     53\u001b[0m   ctx\u001b[38;5;241m.\u001b[39mensure_initialized()\n\u001b[1;32m---> 54\u001b[0m   tensors \u001b[38;5;241m=\u001b[39m \u001b[43mpywrap_tfe\u001b[49m\u001b[38;5;241;43m.\u001b[39;49m\u001b[43mTFE_Py_Execute\u001b[49m\u001b[43m(\u001b[49m\u001b[43mctx\u001b[49m\u001b[38;5;241;43m.\u001b[39;49m\u001b[43m_handle\u001b[49m\u001b[43m,\u001b[49m\u001b[43m \u001b[49m\u001b[43mdevice_name\u001b[49m\u001b[43m,\u001b[49m\u001b[43m \u001b[49m\u001b[43mop_name\u001b[49m\u001b[43m,\u001b[49m\n\u001b[0;32m     55\u001b[0m \u001b[43m                                      \u001b[49m\u001b[43minputs\u001b[49m\u001b[43m,\u001b[49m\u001b[43m \u001b[49m\u001b[43mattrs\u001b[49m\u001b[43m,\u001b[49m\u001b[43m \u001b[49m\u001b[43mnum_outputs\u001b[49m\u001b[43m)\u001b[49m\n\u001b[0;32m     56\u001b[0m \u001b[38;5;28;01mexcept\u001b[39;00m core\u001b[38;5;241m.\u001b[39m_NotOkStatusException \u001b[38;5;28;01mas\u001b[39;00m e:\n\u001b[0;32m     57\u001b[0m   \u001b[38;5;28;01mif\u001b[39;00m name \u001b[38;5;129;01mis\u001b[39;00m \u001b[38;5;129;01mnot\u001b[39;00m \u001b[38;5;28;01mNone\u001b[39;00m:\n",
      "\u001b[1;31mKeyboardInterrupt\u001b[0m: "
     ]
    }
   ],
   "source": [
    "b16_history, b16_model, b16_val_x, b16_val_y, entire_b16_history = cross_validate(create_vit_b16, X, Y, kf, datagen, batch_size=batch_size, epochs=epochs)"
   ]
  },
  {
   "cell_type": "code",
   "execution_count": null,
   "id": "c80c3baf",
   "metadata": {},
   "outputs": [],
   "source": [
    "data_dictionary[\"b16\"] = [b16_val_x, b16_val_y]\n",
    "\n",
    "file_path = \"b16_history.pickle\"\n",
    "\n",
    "with open(file_path, 'wb') as file_pi:\n",
    "    pickle.dump(entire_b16_history, file_pi)"
   ]
  },
  {
   "cell_type": "code",
   "execution_count": null,
   "id": "a651fd5c",
   "metadata": {},
   "outputs": [],
   "source": [
    "b16_model.save('b16_model.h5')"
   ]
  },
  {
   "cell_type": "code",
   "execution_count": null,
   "id": "f8d0317b",
   "metadata": {},
   "outputs": [],
   "source": []
  },
  {
   "cell_type": "code",
   "execution_count": null,
   "id": "2aa54f84",
   "metadata": {},
   "outputs": [],
   "source": [
    "b32_history, b32_model, b32_val_x, b32_val_y, entire_b32_history = cross_validate(create_vit_b32, X, Y, kf, datagen, batch_size=batch_size, epochs=epochs)"
   ]
  },
  {
   "cell_type": "code",
   "execution_count": null,
   "id": "3ae56d55",
   "metadata": {},
   "outputs": [],
   "source": [
    "data_dictionary[\"b32\"] = [b32_val_x, b32_val_y]\n",
    "\n",
    "file_path = \"b32_history.pickle\"\n",
    "\n",
    "with open(file_path, 'wb') as file_pi:\n",
    "    pickle.dump(entire_b32_history, file_pi)"
   ]
  },
  {
   "cell_type": "code",
   "execution_count": null,
   "id": "66fde317",
   "metadata": {},
   "outputs": [],
   "source": [
    "b32_model.save('b32_model.h5')"
   ]
  },
  {
   "cell_type": "code",
   "execution_count": null,
   "id": "aab12c5d",
   "metadata": {},
   "outputs": [],
   "source": [
    "with open(\"data_dictionary.pickle\", 'wb') as file_pi:\n",
    "    pickle.dump(data_dictionary, file_pi)"
   ]
  },
  {
   "cell_type": "code",
   "execution_count": null,
   "id": "316d0fdb",
   "metadata": {},
   "outputs": [],
   "source": []
  }
 ],
 "metadata": {
  "kernelspec": {
   "display_name": "Python 3 (ipykernel)",
   "language": "python",
   "name": "python3"
  },
  "language_info": {
   "codemirror_mode": {
    "name": "ipython",
    "version": 3
   },
   "file_extension": ".py",
   "mimetype": "text/x-python",
   "name": "python",
   "nbconvert_exporter": "python",
   "pygments_lexer": "ipython3",
   "version": "3.10.10"
  }
 },
 "nbformat": 4,
 "nbformat_minor": 5
}
